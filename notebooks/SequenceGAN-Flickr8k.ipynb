{
 "cells": [
  {
   "cell_type": "code",
   "execution_count": 1,
   "metadata": {},
   "outputs": [],
   "source": [
    "import os\n",
    "from PIL import Image\n",
    "import numpy as np\n",
    "import pickle\n",
    "import re\n",
    "import tensorflow as tf\n",
    "from matplotlib import pyplot as plt\n",
    "from tensorflow.keras.models import Sequential, Model\n",
    "from tensorflow.keras.models import load_model\n",
    "from tensorflow.keras import layers"
   ]
  },
  {
   "cell_type": "code",
   "execution_count": 4,
   "metadata": {},
   "outputs": [],
   "source": [
    "datasetPath = '../data/'\n",
    "imagePath = datasetPath + 'images/'\n",
    "images = []\n",
    "captions = []\n",
    "WIDTH, HEIGHT = 64, 64\n",
    "img_channel = 3\n",
    "num_of_samples = 500\n",
    "learning_rate = 1e-4\n",
    "img_shape = (WIDTH, HEIGHT, img_channel)"
   ]
  },
  {
   "cell_type": "code",
   "execution_count": 5,
   "metadata": {},
   "outputs": [],
   "source": [
    "f = open(datasetPath + 'captions.txt', 'r')\n",
    "lines = f.readlines()\n",
    "lines = lines[1:] # to remove header"
   ]
  },
  {
   "cell_type": "code",
   "execution_count": 6,
   "metadata": {},
   "outputs": [],
   "source": [
    "for line in lines[:num_of_samples]:\n",
    "    image, caption, *_ = line.split(',')\n",
    "    captions.append(caption)\n",
    "    image = Image.open(imagePath + image)\n",
    "    image = image.resize((WIDTH, HEIGHT))\n",
    "    frame = np.asarray(image)\n",
    "    images.append(frame)"
   ]
  },
  {
   "cell_type": "code",
   "execution_count": 7,
   "metadata": {},
   "outputs": [],
   "source": [
    "images = np.array(images)\n",
    "images = images / 255.\n"
   ]
  },
  {
   "cell_type": "code",
   "execution_count": 8,
   "metadata": {},
   "outputs": [],
   "source": [
    "tokenizer = tf.keras.preprocessing.text.Tokenizer(num_words=5000, oov_token=\"<unk>\", filters='!\"#$%&()*+.,-/:;=?@[\\]^_`{|}~ ',split=' ') \n",
    "\n",
    "tokenizer.fit_on_texts(captions)\n",
    "\n",
    "tokenizer.word_index['<pad>'] = 0\n",
    "tokenizer.index_word[0] = '<pad>'\n",
    "\n",
    "text_corpus_tokenized = tokenizer.texts_to_sequences(captions)\n",
    "\n",
    "\n",
    "text_corpus_padded = tf.keras.preprocessing.sequence.pad_sequences(text_corpus_tokenized, padding='post', maxlen=20, dtype='int32',)\n"
   ]
  },
  {
   "cell_type": "code",
   "execution_count": 9,
   "metadata": {},
   "outputs": [],
   "source": [
    "def decode_sequence(encoded_text):\n",
    "    lst = []\n",
    "    for i in encoded_text:\n",
    "        lst.append(tokenizer.index_word[i])\n",
    "    return ' '.join(lst)"
   ]
  },
  {
   "cell_type": "code",
   "execution_count": 10,
   "metadata": {},
   "outputs": [],
   "source": [
    "def tokenize_sequence(tokenizer, sequence):\n",
    "    tokenized_sequence = []\n",
    "    sequence = sequence.lower()\n",
    "    sequence = sequence.strip() \n",
    "    sequence = re.sub(r'[^\\w\\s]','',sequence)\n",
    "    for i in sequence.split(' '):\n",
    "        try:\n",
    "            tokenized_sequence.append(tokenizer.word_index[i])\n",
    "        except:\n",
    "            tokenized_sequence.append(tokenizer.word_index['<unk>'])\n",
    "    if len(tokenized_sequence) > 20:\n",
    "        tokenized_sequence = tokenized_sequence[:20]\n",
    "    elif len(tokenized_sequence) == 20:\n",
    "        tokenized_sequence = tokenized_sequence\n",
    "    else:\n",
    "        length = len(tokenized_sequence)\n",
    "    for i in range(20-length):\n",
    "        tokenized_sequence.append(0)\n",
    "    return tokenized_sequence"
   ]
  },
  {
   "cell_type": "code",
   "execution_count": 11,
   "metadata": {},
   "outputs": [],
   "source": [
    "def generation_loss(fake_image, real_image):\n",
    "    return np.mean(np.square(fake_image - real_image))"
   ]
  },
  {
   "cell_type": "code",
   "execution_count": 12,
   "metadata": {},
   "outputs": [
    {
     "name": "stdout",
     "output_type": "stream",
     "text": [
      "(500, 64, 64, 3)\n"
     ]
    }
   ],
   "source": [
    "print(images.shape)"
   ]
  },
  {
   "cell_type": "code",
   "execution_count": 13,
   "metadata": {},
   "outputs": [],
   "source": [
    "encoder_inputs= layers.Input(shape=(20,))\n",
    "noise_input = layers.Input(shape=(256,))\n",
    "encoder_embedding = layers.Embedding(5000, 100, input_length=20)\n",
    "\n",
    "encoder_embeddings = encoder_embedding(encoder_inputs)\n",
    "encoder_lstm = layers.LSTM(256, return_state=True)\n",
    "LSTM_outputs, _, _ = encoder_lstm(encoder_embeddings)\n",
    "\n",
    "mul = layers.multiply([noise_input, LSTM_outputs])\n",
    "\n",
    "linear = layers.Dense(8 * 8 * 128, use_bias=False)(mul)\n",
    "\n",
    "batch_norm = layers.BatchNormalization()(linear)\n",
    "activation = layers.LeakyReLU()(batch_norm)\n",
    "\n",
    "reshape = layers.Reshape((8, 8, 128))(activation)\n",
    "\n",
    "x = layers.Conv2DTranspose(128, (5, 5), strides=(2, 2), padding='same', use_bias=False)(reshape)\n",
    "x = layers.BatchNormalization()(x)\n",
    "x = layers.LeakyReLU()(x)\n",
    "\n",
    "x = layers.Conv2DTranspose(64, (5, 5), strides=(2, 2), padding='same', use_bias=False)(x)\n",
    "x = layers.BatchNormalization()(x)\n",
    "x = layers.LeakyReLU()(x)\n",
    "\n",
    "x = layers.Conv2DTranspose(3, (5, 5), strides=(2, 2), padding='same', use_bias=False, activation='tanh')(x)"
   ]
  },
  {
   "cell_type": "code",
   "execution_count": 14,
   "metadata": {},
   "outputs": [],
   "source": [
    "generator = Model([encoder_inputs,noise_input], x)"
   ]
  },
  {
   "cell_type": "code",
   "execution_count": 15,
   "metadata": {},
   "outputs": [
    {
     "name": "stdout",
     "output_type": "stream",
     "text": [
      "Model: \"model\"\n",
      "__________________________________________________________________________________________________\n",
      "Layer (type)                    Output Shape         Param #     Connected to                     \n",
      "==================================================================================================\n",
      "input_1 (InputLayer)            [(None, 20)]         0                                            \n",
      "__________________________________________________________________________________________________\n",
      "embedding (Embedding)           (None, 20, 100)      500000      input_1[0][0]                    \n",
      "__________________________________________________________________________________________________\n",
      "input_2 (InputLayer)            [(None, 256)]        0                                            \n",
      "__________________________________________________________________________________________________\n",
      "lstm (LSTM)                     [(None, 256), (None, 365568      embedding[0][0]                  \n",
      "__________________________________________________________________________________________________\n",
      "multiply (Multiply)             (None, 256)          0           input_2[0][0]                    \n",
      "                                                                 lstm[0][0]                       \n",
      "__________________________________________________________________________________________________\n",
      "dense (Dense)                   (None, 8192)         2097152     multiply[0][0]                   \n",
      "__________________________________________________________________________________________________\n",
      "batch_normalization (BatchNorma (None, 8192)         32768       dense[0][0]                      \n",
      "__________________________________________________________________________________________________\n",
      "leaky_re_lu (LeakyReLU)         (None, 8192)         0           batch_normalization[0][0]        \n",
      "__________________________________________________________________________________________________\n",
      "reshape (Reshape)               (None, 8, 8, 128)    0           leaky_re_lu[0][0]                \n",
      "__________________________________________________________________________________________________\n",
      "conv2d_transpose (Conv2DTranspo (None, 16, 16, 128)  409600      reshape[0][0]                    \n",
      "__________________________________________________________________________________________________\n",
      "batch_normalization_1 (BatchNor (None, 16, 16, 128)  512         conv2d_transpose[0][0]           \n",
      "__________________________________________________________________________________________________\n",
      "leaky_re_lu_1 (LeakyReLU)       (None, 16, 16, 128)  0           batch_normalization_1[0][0]      \n",
      "__________________________________________________________________________________________________\n",
      "conv2d_transpose_1 (Conv2DTrans (None, 32, 32, 64)   204800      leaky_re_lu_1[0][0]              \n",
      "__________________________________________________________________________________________________\n",
      "batch_normalization_2 (BatchNor (None, 32, 32, 64)   256         conv2d_transpose_1[0][0]         \n",
      "__________________________________________________________________________________________________\n",
      "leaky_re_lu_2 (LeakyReLU)       (None, 32, 32, 64)   0           batch_normalization_2[0][0]      \n",
      "__________________________________________________________________________________________________\n",
      "conv2d_transpose_2 (Conv2DTrans (None, 64, 64, 3)    4800        leaky_re_lu_2[0][0]              \n",
      "==================================================================================================\n",
      "Total params: 3,615,456\n",
      "Trainable params: 3,598,688\n",
      "Non-trainable params: 16,768\n",
      "__________________________________________________________________________________________________\n"
     ]
    }
   ],
   "source": [
    "generator.summary()"
   ]
  },
  {
   "cell_type": "code",
   "execution_count": 16,
   "metadata": {},
   "outputs": [],
   "source": [
    "model = tf.keras.Sequential()\n",
    "model.add(layers.Conv2D(64, (5, 5), strides=(2, 2), padding='same', input_shape=[64, 64, 6]))\n",
    "model.add(layers.LeakyReLU())\n",
    "model.add(layers.Dropout(0.3))\n",
    "\n",
    "model.add(layers.Conv2D(128, (5, 5), strides=(2, 2), padding='same'))\n",
    "model.add(layers.LeakyReLU())\n",
    "model.add(layers.Dropout(0.3))\n",
    "\n",
    "model.add(layers.Flatten())\n",
    "model.add(layers.Dense(1))\n",
    "\n",
    "img = layers.Input(shape=(img_shape))\n",
    "label = layers.Input(shape=(20,))\n",
    "\n",
    "embedding = layers.Embedding(5000, 100, input_length = 20)(label)\n",
    "LSTM = layers.LSTM(256, return_state=True)\n",
    "LSTM_outputs, _, _ = LSTM(embedding)\n",
    "linear = layers.Dense(64*64*3)(LSTM_outputs)\n",
    "label_embedding = layers.Reshape(img_shape)(linear)\n",
    "\n",
    "concat = layers.Concatenate(axis=-1)([img, label_embedding])\n",
    "prediction = model(concat)\n",
    "discriminator =  Model([img, label], prediction)"
   ]
  },
  {
   "cell_type": "code",
   "execution_count": 17,
   "metadata": {},
   "outputs": [],
   "source": [
    "generator_optimizer = tf.keras.optimizers.Adam(learning_rate)\n",
    "discriminator_optimizer = tf.keras.optimizers.Adam(learning_rate)"
   ]
  },
  {
   "cell_type": "code",
   "execution_count": 18,
   "metadata": {},
   "outputs": [],
   "source": [
    "cross_entropy = tf.keras.losses.BinaryCrossentropy(from_logits=True)"
   ]
  },
  {
   "cell_type": "code",
   "execution_count": 113,
   "metadata": {},
   "outputs": [],
   "source": [
    "\n",
    "def discriminator_loss(real_output, fake_output):\n",
    "    real_loss = cross_entropy(tf.ones_like(real_output), real_output)\n",
    "    fake_loss = cross_entropy(tf.zeros_like(fake_output), fake_output)\n",
    "    total_loss = real_loss + fake_loss\n",
    "    return total_loss\n",
    "\n",
    "\n",
    "def generator_loss(fake_output):\n",
    "    return cross_entropy(tf.ones_like(fake_output), fake_output)"
   ]
  },
  {
   "cell_type": "code",
   "execution_count": 114,
   "metadata": {},
   "outputs": [],
   "source": [
    "tf.function\n",
    "def train_step(batch_size, image, captions):\n",
    "    image, label = image, captions\n",
    "    with tf.device('/cpu:0'): \n",
    "        with tf.GradientTape() as gen_tape, tf.GradientTape() as disc_tape:\n",
    "      \n",
    "            noise = np.random.normal(0, 1, size=(batch_size, 256))\n",
    "\n",
    "            generated_images = generator([label, noise], training=True)\n",
    "\n",
    "            real_output = discriminator([image, label], training=True)\n",
    "\n",
    "            fake_output = discriminator([generated_images, label], training=True)\n",
    "\n",
    "            gen_loss = generator_loss(fake_output)\n",
    "            disc_loss = discriminator_loss(real_output, fake_output)\n",
    "\n",
    "        gradients_of_generator = gen_tape.gradient(gen_loss, generator.trainable_variables)\n",
    "        gradients_of_discriminator = disc_tape.gradient(disc_loss, discriminator.trainable_variables)\n",
    "    \n",
    "        generator_optimizer.apply_gradients(zip(gradients_of_generator, generator.trainable_variables))\n",
    "        discriminator_optimizer.apply_gradients(zip(gradients_of_discriminator, discriminator.trainable_variables))"
   ]
  },
  {
   "cell_type": "code",
   "execution_count": 120,
   "metadata": {},
   "outputs": [],
   "source": [
    "import time\n",
    "\n",
    "def fit(epochs):\n",
    "    batch_size=32\n",
    "    for epoch in range(1, epochs + 1):\n",
    "        print(f'Epoch {epoch}/{epochs}')\n",
    "        start = time.time()\n",
    "\n",
    "\n",
    "        for i in range(len(images)//batch_size):\n",
    "            image_batch = images[i*batch_size:(i+1)*batch_size]\n",
    "            caption_batch = np.array(text_corpus_padded[i*batch_size:(i+1)*batch_size])\n",
    "            train_step(batch_size, image_batch, caption_batch)"
   ]
  },
  {
   "cell_type": "code",
   "execution_count": 121,
   "metadata": {},
   "outputs": [],
   "source": [
    "discriminator.save_weights('discriminator-weights.h5')\n",
    "generator.save_weights('generator-weights.h5')"
   ]
  },
  {
   "cell_type": "code",
   "execution_count": 213,
   "metadata": {
    "scrolled": true
   },
   "outputs": [
    {
     "name": "stdout",
     "output_type": "stream",
     "text": [
      "Epoch 1/1\n"
     ]
    }
   ],
   "source": [
    "fit(1)"
   ]
  },
  {
   "cell_type": "code",
   "execution_count": 205,
   "metadata": {},
   "outputs": [
    {
     "name": "stdout",
     "output_type": "stream",
     "text": [
      "a television with a picture of a girl on it \n",
      " <pad> <pad> <pad> <pad> <pad> <pad> <pad> <pad> <pad>\n"
     ]
    },
    {
     "data": {
      "text/plain": [
       "<matplotlib.image.AxesImage at 0x7fb0f40b1be0>"
      ]
     },
     "execution_count": 205,
     "metadata": {},
     "output_type": "execute_result"
    },
    {
     "data": {
      "image/png": "[encoded data removed]",
      "text/plain": [
       "<Figure size 432x288 with 1 Axes>"
      ]
     },
     "metadata": {
      "needs_background": "light"
     },
     "output_type": "display_data"
    }
   ],
   "source": [
    "index = 171\n",
    "\n",
    "print(decode_sequence(text_corpus_padded[index]))\n",
    "plt.imshow(np.array(images[index]).reshape(WIDTH, HEIGHT, 3))"
   ]
  },
  {
   "cell_type": "code",
   "execution_count": 206,
   "metadata": {},
   "outputs": [
    {
     "name": "stderr",
     "output_type": "stream",
     "text": [
      "Clipping input data to the valid range for imshow with RGB data ([0..1] for floats or [0..255] for integers).\n"
     ]
    },
    {
     "data": {
      "text/plain": [
       "<matplotlib.image.AxesImage at 0x7fb0f401f760>"
      ]
     },
     "execution_count": 206,
     "metadata": {},
     "output_type": "execute_result"
    },
    {
     "data": {
      "image/png": "[encoded data removed]",
      "text/plain": [
       "<Figure size 432x288 with 1 Axes>"
      ]
     },
     "metadata": {
      "needs_background": "light"
     },
     "output_type": "display_data"
    }
   ],
   "source": [
    "img = generator([np.expand_dims(text_corpus_padded[index], axis=0), np.random.normal(0, 1, size=(1, 256))])\n",
    "plt.imshow(np.array(img).reshape(64, 64, 3))"
   ]
  },
  {
   "cell_type": "code",
   "execution_count": 212,
   "metadata": {},
   "outputs": [
    {
     "data": {
      "text/plain": [
       "<matplotlib.image.AxesImage at 0x7fb0c457ffd0>"
      ]
     },
     "execution_count": 212,
     "metadata": {},
     "output_type": "execute_result"
    },
    {
     "data": {
      "image/png": "[encoded data removed]",
      "text/plain": [
       "<Figure size 432x288 with 1 Axes>"
      ]
     },
     "metadata": {
      "needs_background": "light"
     },
     "output_type": "display_data"
    }
   ],
   "source": [
    "sequence = tokenize_sequence(tokenizer, 'a dog is running in a snow coverd field')\n",
    "img = np.array(generator([np.expand_dims(sequence, axis=0), np.random.normal(0, 1)])).reshape(WIDTH,HEIGHT, 3)  \n",
    "plt.imshow(img)"
   ]
  },
  {
   "cell_type": "code",
   "execution_count": null,
   "metadata": {},
   "outputs": [],
   "source": []
  }
 ],
 "metadata": {
  "kernelspec": {
   "display_name": "Python 3",
   "language": "python",
   "name": "python3"
  },
  "language_info": {
   "codemirror_mode": {
    "name": "ipython",
    "version": 3
   },
   "file_extension": ".py",
   "mimetype": "text/x-python",
   "name": "python",
   "nbconvert_exporter": "python",
   "pygments_lexer": "ipython3",
   "version": "3.8.5"
  }
 },
 "nbformat": 4,
 "nbformat_minor": 4
}
